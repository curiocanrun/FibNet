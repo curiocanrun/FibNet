{
 "cells": [
  {
   "cell_type": "markdown",
   "id": "0ca25fc3-a2c0-4ebe-b497-eae64a48d80b",
   "metadata": {},
   "source": [
    "# Can a Neural Network Learn the Fibonacci Pattern?"
   ]
  },
  {
   "cell_type": "code",
   "execution_count": 1,
   "id": "12e46b6b-8f52-42dc-a6af-97bf48118602",
   "metadata": {},
   "outputs": [],
   "source": [
    "import numpy as np"
   ]
  },
  {
   "cell_type": "code",
   "execution_count": 2,
   "id": "219ffab2-1063-4301-9d45-7af385c6fe09",
   "metadata": {},
   "outputs": [],
   "source": [
    "def fib_sequence(n: int):\n",
    "    fib = [1, 1]\n",
    "    for _ in range(n - 2):\n",
    "        fib.append(fib[-1]+fib[-2])\n",
    "    return fib\n",
    "    \n",
    "def fibonacci_data(n=20):\n",
    "    fib = fib_sequence(n)\n",
    "    data = []\n",
    "    for i in range(2, n):\n",
    "        input_pair = np.array([fib[i-2], fib[i-1]])\n",
    "        output = fib[i]\n",
    "        data.append((input_pair, output))\n",
    "        \n",
    "    return data"
   ]
  },
  {
   "cell_type": "code",
   "execution_count": 3,
   "id": "cb0c2cd4-854a-49cd-beee-bda001cf6246",
   "metadata": {},
   "outputs": [],
   "source": [
    "data = fibonacci_data(20)\n",
    "\n",
    "X = np.array([x for x, _ in data])\n",
    "Y = np.array([y for _, y in data]).reshape(-1, 1)\n",
    "\n",
    "x_mean = np.mean(X, axis=0)\n",
    "x_std = np.std(X, axis=0)\n",
    "X = (X - x_mean) / x_std\n",
    "\n",
    "y_mean = np.mean(Y)\n",
    "y_std = np.std(Y)\n",
    "Y = (Y - y_mean) / y_std"
   ]
  },
  {
   "cell_type": "code",
   "execution_count": 4,
   "id": "db965a8e-7872-4afc-b4ab-ea4481a50211",
   "metadata": {},
   "outputs": [],
   "source": [
    "input_size = 2\n",
    "hidden_size = 8\n",
    "output_size = 1"
   ]
  },
  {
   "cell_type": "code",
   "execution_count": 5,
   "id": "884cac74-ab41-430e-b59a-2c4d57c49534",
   "metadata": {},
   "outputs": [],
   "source": [
    "# He initialization (to preserve variance across layers)\n",
    "W1 = np.random.randn(input_size, hidden_size) * np.sqrt(2 / input_size)\n",
    "b1 = np.zeros((1, hidden_size))\n",
    "\n",
    "W2 = np.random.randn(hidden_size, output_size) * np.sqrt(2 / hidden_size)\n",
    "b2 = np.zeros((1, output_size))"
   ]
  },
  {
   "cell_type": "code",
   "execution_count": 6,
   "id": "9192ed49-8f5d-4643-92f9-b756990a7095",
   "metadata": {},
   "outputs": [],
   "source": [
    "lr = 0.01 \n",
    "max_epochs = 1000"
   ]
  },
  {
   "cell_type": "code",
   "execution_count": 7,
   "id": "dc1c3bd4-3c64-49e7-8eb0-5b1859526996",
   "metadata": {},
   "outputs": [],
   "source": [
    "def relu(z):\n",
    "    return np.maximum(0, z)\n",
    "\n",
    "def relu_gradient(z):\n",
    "    return np.where(z > 0, 1.0, 0.0)\n",
    "\n",
    "def mse_loss(y_pred, y):\n",
    "    return np.mean((y_pred - y) ** 2)\n",
    "\n",
    "def mse_grad(y_pred, y):\n",
    "    return 2 * (y_pred - y) / y.size\n",
    "    "
   ]
  },
  {
   "cell_type": "code",
   "execution_count": 8,
   "id": "8a8ea37a-912d-442d-80f5-f90f82943d8f",
   "metadata": {},
   "outputs": [
    {
     "name": "stdout",
     "output_type": "stream",
     "text": [
      "Epoch 0, Loss: 0.0593\n",
      "Epoch 100, Loss: 0.0000\n",
      "Epoch 200, Loss: 0.0000\n",
      "Epoch 300, Loss: 0.0000\n",
      "Epoch 400, Loss: 0.0000\n",
      "Epoch 500, Loss: 0.0000\n",
      "Epoch 600, Loss: 0.0000\n",
      "Epoch 700, Loss: 0.0000\n",
      "Epoch 800, Loss: 0.0000\n",
      "Epoch 900, Loss: 0.0000\n"
     ]
    }
   ],
   "source": [
    "for epoch in range(max_epochs):\n",
    "    # Forward pass\n",
    "    Z1 = X @ W1 + b1\n",
    "    A1 = relu(Z1)\n",
    "    Z2 = A1 @ W2 + b2\n",
    "    Y_pred = Z2\n",
    "\n",
    "    # Loss\n",
    "    loss = mse_loss(Y_pred, Y)\n",
    "\n",
    "    # BackPropogation\n",
    "    dZ2 = mse_grad(Y_pred, Y)\n",
    "    dW2 = A1.T @ dZ2\n",
    "    db2 = np.sum(dZ2, axis=0, keepdims=True)\n",
    "\n",
    "    dA1 = dZ2 @ W2.T\n",
    "    dZ1 = dA1 * relu_gradient(Z1)\n",
    "    dW1 = X.T @ dZ1\n",
    "    db1 = np.sum(dZ1, axis=0, keepdims=True)\n",
    "\n",
    "    # Gradient Descent\n",
    "    W2 -= lr * dW2\n",
    "    b2 -= lr * db2\n",
    "    W1 -= lr * dW1\n",
    "    b1 -= lr * db1\n",
    "\n",
    "    if epoch % 100 == 0:\n",
    "        print(f\"Epoch {epoch}, Loss: {loss:.4f}\")\n",
    "    "
   ]
  },
  {
   "cell_type": "code",
   "execution_count": 9,
   "id": "98c3d810-35fa-4450-8b60-5df3863996f5",
   "metadata": {},
   "outputs": [],
   "source": [
    "sequence = fib_sequence(20) \n",
    "f_prev, f_last = sequence[18], sequence[19]"
   ]
  },
  {
   "cell_type": "code",
   "execution_count": 11,
   "id": "982aa574-dcda-4932-873e-fb3621c3ca7a",
   "metadata": {},
   "outputs": [
    {
     "name": "stdout",
     "output_type": "stream",
     "text": [
      "Predicted F_21 ≈ 10941.87 (actual: 10946)\n"
     ]
    }
   ],
   "source": [
    "x_input = np.array([[f_prev, f_last]])\n",
    "x_norm = (x_input - x_mean) / x_std\n",
    "\n",
    "hidden = relu(x_norm @ W1 + b1)\n",
    "y_pred = hidden @ W2 + b2\n",
    "pred = y_pred * y_std + y_mean\n",
    "pred_val = pred.item()\n",
    "\n",
    "actual = sequence[-1]  # F_21\n",
    "\n",
    "print(f\"Predicted F_21 ≈ {pred_val:.2f} (actual: {actual})\")\n",
    "# mse = (pred_val - actual) ** 2"
   ]
  },
  {
   "cell_type": "code",
   "execution_count": null,
   "id": "df544e2f-a4d8-4bc8-bb84-251f6d32c070",
   "metadata": {},
   "outputs": [],
   "source": []
  },
  {
   "cell_type": "code",
   "execution_count": null,
   "id": "cec18e5c-b521-4733-9aaf-0193289e460e",
   "metadata": {},
   "outputs": [],
   "source": []
  },
  {
   "cell_type": "code",
   "execution_count": null,
   "id": "4b8a590b-a1c8-4e63-a5ac-40ecfe3fbaa5",
   "metadata": {},
   "outputs": [],
   "source": []
  }
 ],
 "metadata": {
  "kernelspec": {
   "display_name": "Python 3 (ipykernel)",
   "language": "python",
   "name": "python3"
  },
  "language_info": {
   "codemirror_mode": {
    "name": "ipython",
    "version": 3
   },
   "file_extension": ".py",
   "mimetype": "text/x-python",
   "name": "python",
   "nbconvert_exporter": "python",
   "pygments_lexer": "ipython3",
   "version": "3.12.2"
  }
 },
 "nbformat": 4,
 "nbformat_minor": 5
}
